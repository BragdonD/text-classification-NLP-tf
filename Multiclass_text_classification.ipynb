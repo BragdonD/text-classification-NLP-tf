{
  "cells": [
    {
      "cell_type": "markdown",
      "metadata": {
        "id": "view-in-github",
        "colab_type": "text"
      },
      "source": [
        "<a href=\"https://colab.research.google.com/github/BragdonD/text-classification-NLP-tf/blob/main/Multiclass_text_classification.ipynb\" target=\"_parent\"><img src=\"https://colab.research.google.com/assets/colab-badge.svg\" alt=\"Open In Colab\"/></a>"
      ]
    },
    {
      "cell_type": "markdown",
      "metadata": {
        "id": "KKFNPb5U6OGe"
      },
      "source": [
        "Import the depencies"
      ]
    },
    {
      "cell_type": "code",
      "execution_count": null,
      "metadata": {
        "colab": {
          "base_uri": "https://localhost:8080/"
        },
        "id": "pwAtmNdd5iuw",
        "outputId": "a1364f93-538f-47dd-efe9-3204c3675ba0"
      },
      "outputs": [
        {
          "output_type": "stream",
          "name": "stderr",
          "text": [
            "[nltk_data] Downloading package stopwords to /root/nltk_data...\n",
            "[nltk_data]   Package stopwords is already up-to-date!\n",
            "[nltk_data] Downloading package wordnet to /root/nltk_data...\n",
            "[nltk_data]   Package wordnet is already up-to-date!\n",
            "[nltk_data] Downloading package omw-1.4 to /root/nltk_data...\n",
            "[nltk_data]   Package omw-1.4 is already up-to-date!\n",
            "[nltk_data] Downloading package averaged_perceptron_tagger to\n",
            "[nltk_data]     /root/nltk_data...\n",
            "[nltk_data]   Package averaged_perceptron_tagger is already up-to-\n",
            "[nltk_data]       date!\n",
            "[nltk_data] Downloading package words to /root/nltk_data...\n",
            "[nltk_data]   Package words is already up-to-date!\n"
          ]
        }
      ],
      "source": [
        "from tensorflow.keras.preprocessing.text import Tokenizer\n",
        "from tensorflow.keras.preprocessing.sequence import pad_sequences\n",
        "from tensorflow.keras.models import Sequential\n",
        "from tensorflow.keras.layers import Dense, Embedding, LSTM, SpatialDropout1D, Dropout, Bidirectional, GRU, Conv1D, GlobalMaxPooling1D,BatchNormalization\n",
        "from tensorflow.keras.callbacks import EarlyStopping\n",
        "from tensorflow.data import Dataset\n",
        "from tensorflow.keras import regularizers\n",
        "import tensorflow as tf\n",
        "from keras.utils.np_utils import to_categorical\n",
        "from keras import backend as K\n",
        "from sklearn.model_selection import train_test_split\n",
        "from sklearn.preprocessing import LabelEncoder, LabelBinarizer\n",
        "from sklearn.utils import class_weight\n",
        "\n",
        "import numpy as np \n",
        "import pandas as pd\n",
        "import matplotlib.pyplot as plt\n",
        "import seaborn as sns\n",
        "\n",
        "import re\n",
        "import nltk\n",
        "\n",
        "nltk.download('stopwords')\n",
        "nltk.download('wordnet')\n",
        "nltk.download('omw-1.4')\n",
        "nltk.download('averaged_perceptron_tagger')\n",
        "nltk.download('words')\n",
        "\n",
        "from nltk.corpus import stopwords\n",
        "from nltk import word_tokenize\n",
        "from nltk.stem import WordNetLemmatizer\n",
        "from nltk.corpus import wordnet\n",
        "\n",
        "import string\n",
        "import spacy\n",
        "from tqdm import tqdm"
      ]
    },
    {
      "cell_type": "markdown",
      "metadata": {
        "id": "S0P7WgFs6dBX"
      },
      "source": [
        "Mouting the drive and defining the path toward the dataset file"
      ]
    },
    {
      "cell_type": "code",
      "execution_count": null,
      "metadata": {
        "colab": {
          "base_uri": "https://localhost:8080/"
        },
        "id": "cz-Ds6v95mQN",
        "outputId": "5dcf700d-ea53-450e-9f90-35a766cd9a48"
      },
      "outputs": [
        {
          "output_type": "stream",
          "name": "stdout",
          "text": [
            "Mounted at /content/drive/\n"
          ]
        }
      ],
      "source": [
        "from google.colab import drive\n",
        "import json\n",
        "\n",
        "drive.mount(\"/content/drive/\")"
      ]
    },
    {
      "cell_type": "markdown",
      "metadata": {
        "id": "s4D9p5eqOFzq"
      },
      "source": [
        "Extract the data from the Json file and turn it into a panda DataFrame"
      ]
    },
    {
      "cell_type": "code",
      "execution_count": null,
      "metadata": {
        "id": "-8hrAt937mT4"
      },
      "outputs": [],
      "source": [
        "def load_csv_dataset(path):\n",
        "    \"\"\"Function to load a dataset from a csv file\n",
        "\n",
        "    Args:\n",
        "        path (str): relative path to the csv file\n",
        "\n",
        "    Returns:\n",
        "        pd.DataFrame: the dataframe load\n",
        "    \"\"\"\n",
        "    return pd.read_csv(path)"
      ]
    },
    {
      "cell_type": "code",
      "source": [
        "FILE_PATH = \"drive/MyDrive/NLP/\" + \"train_40k.csv\";"
      ],
      "metadata": {
        "id": "OkGrT23g1Oxl"
      },
      "execution_count": null,
      "outputs": []
    },
    {
      "cell_type": "code",
      "execution_count": null,
      "metadata": {
        "id": "AJ3KAhcu8iiO"
      },
      "outputs": [],
      "source": [
        "df = load_csv_dataset(FILE_PATH);"
      ]
    },
    {
      "cell_type": "code",
      "execution_count": null,
      "metadata": {
        "colab": {
          "base_uri": "https://localhost:8080/",
          "height": 354
        },
        "id": "bGIIW9qIfUtm",
        "outputId": "a5a3950a-15b0-4388-c1d4-633f2ac61b56"
      },
      "outputs": [
        {
          "output_type": "execute_result",
          "data": {
            "text/plain": [
              "    productId                                Title          userId  \\\n",
              "0  B000E46LYG  Golden Valley Natural Buffalo Jerky  A3MQDNGHDJU4MK   \n",
              "1  B000GRA6N8                         Westing Game         unknown   \n",
              "2  B000GRA6N8                         Westing Game         unknown   \n",
              "3  B000GRA6N8                         Westing Game         unknown   \n",
              "4  B00000DMDQ    I SPY A is For Jigsaw Puzzle 63pc         unknown   \n",
              "\n",
              "  Helpfulness  Score       Time  \\\n",
              "0         0/0    3.0         -1   \n",
              "1         0/0    5.0  860630400   \n",
              "2         0/0    5.0  883008000   \n",
              "3         0/0    5.0  897696000   \n",
              "4         2/4    5.0  911865600   \n",
              "\n",
              "                                                Text                  Cat1  \\\n",
              "0  The description and photo on this product need...  grocery gourmet food   \n",
              "1  This was a great book!!!! It is well thought t...            toys games   \n",
              "2  I am a first year teacher, teaching 5th grade....            toys games   \n",
              "3  I got the book at my bookfair at school lookin...            toys games   \n",
              "4  Hi! I'm Martine Redman and I created this puzz...            toys games   \n",
              "\n",
              "           Cat2            Cat3  \n",
              "0  meat poultry           jerky  \n",
              "1         games         unknown  \n",
              "2         games         unknown  \n",
              "3         games         unknown  \n",
              "4       puzzles  jigsaw puzzles  "
            ],
            "text/html": [
              "\n",
              "  <div id=\"df-496f5f8e-b3a2-4226-8ec5-07d3f19f31f6\">\n",
              "    <div class=\"colab-df-container\">\n",
              "      <div>\n",
              "<style scoped>\n",
              "    .dataframe tbody tr th:only-of-type {\n",
              "        vertical-align: middle;\n",
              "    }\n",
              "\n",
              "    .dataframe tbody tr th {\n",
              "        vertical-align: top;\n",
              "    }\n",
              "\n",
              "    .dataframe thead th {\n",
              "        text-align: right;\n",
              "    }\n",
              "</style>\n",
              "<table border=\"1\" class=\"dataframe\">\n",
              "  <thead>\n",
              "    <tr style=\"text-align: right;\">\n",
              "      <th></th>\n",
              "      <th>productId</th>\n",
              "      <th>Title</th>\n",
              "      <th>userId</th>\n",
              "      <th>Helpfulness</th>\n",
              "      <th>Score</th>\n",
              "      <th>Time</th>\n",
              "      <th>Text</th>\n",
              "      <th>Cat1</th>\n",
              "      <th>Cat2</th>\n",
              "      <th>Cat3</th>\n",
              "    </tr>\n",
              "  </thead>\n",
              "  <tbody>\n",
              "    <tr>\n",
              "      <th>0</th>\n",
              "      <td>B000E46LYG</td>\n",
              "      <td>Golden Valley Natural Buffalo Jerky</td>\n",
              "      <td>A3MQDNGHDJU4MK</td>\n",
              "      <td>0/0</td>\n",
              "      <td>3.0</td>\n",
              "      <td>-1</td>\n",
              "      <td>The description and photo on this product need...</td>\n",
              "      <td>grocery gourmet food</td>\n",
              "      <td>meat poultry</td>\n",
              "      <td>jerky</td>\n",
              "    </tr>\n",
              "    <tr>\n",
              "      <th>1</th>\n",
              "      <td>B000GRA6N8</td>\n",
              "      <td>Westing Game</td>\n",
              "      <td>unknown</td>\n",
              "      <td>0/0</td>\n",
              "      <td>5.0</td>\n",
              "      <td>860630400</td>\n",
              "      <td>This was a great book!!!! It is well thought t...</td>\n",
              "      <td>toys games</td>\n",
              "      <td>games</td>\n",
              "      <td>unknown</td>\n",
              "    </tr>\n",
              "    <tr>\n",
              "      <th>2</th>\n",
              "      <td>B000GRA6N8</td>\n",
              "      <td>Westing Game</td>\n",
              "      <td>unknown</td>\n",
              "      <td>0/0</td>\n",
              "      <td>5.0</td>\n",
              "      <td>883008000</td>\n",
              "      <td>I am a first year teacher, teaching 5th grade....</td>\n",
              "      <td>toys games</td>\n",
              "      <td>games</td>\n",
              "      <td>unknown</td>\n",
              "    </tr>\n",
              "    <tr>\n",
              "      <th>3</th>\n",
              "      <td>B000GRA6N8</td>\n",
              "      <td>Westing Game</td>\n",
              "      <td>unknown</td>\n",
              "      <td>0/0</td>\n",
              "      <td>5.0</td>\n",
              "      <td>897696000</td>\n",
              "      <td>I got the book at my bookfair at school lookin...</td>\n",
              "      <td>toys games</td>\n",
              "      <td>games</td>\n",
              "      <td>unknown</td>\n",
              "    </tr>\n",
              "    <tr>\n",
              "      <th>4</th>\n",
              "      <td>B00000DMDQ</td>\n",
              "      <td>I SPY A is For Jigsaw Puzzle 63pc</td>\n",
              "      <td>unknown</td>\n",
              "      <td>2/4</td>\n",
              "      <td>5.0</td>\n",
              "      <td>911865600</td>\n",
              "      <td>Hi! I'm Martine Redman and I created this puzz...</td>\n",
              "      <td>toys games</td>\n",
              "      <td>puzzles</td>\n",
              "      <td>jigsaw puzzles</td>\n",
              "    </tr>\n",
              "  </tbody>\n",
              "</table>\n",
              "</div>\n",
              "      <button class=\"colab-df-convert\" onclick=\"convertToInteractive('df-496f5f8e-b3a2-4226-8ec5-07d3f19f31f6')\"\n",
              "              title=\"Convert this dataframe to an interactive table.\"\n",
              "              style=\"display:none;\">\n",
              "        \n",
              "  <svg xmlns=\"http://www.w3.org/2000/svg\" height=\"24px\"viewBox=\"0 0 24 24\"\n",
              "       width=\"24px\">\n",
              "    <path d=\"M0 0h24v24H0V0z\" fill=\"none\"/>\n",
              "    <path d=\"M18.56 5.44l.94 2.06.94-2.06 2.06-.94-2.06-.94-.94-2.06-.94 2.06-2.06.94zm-11 1L8.5 8.5l.94-2.06 2.06-.94-2.06-.94L8.5 2.5l-.94 2.06-2.06.94zm10 10l.94 2.06.94-2.06 2.06-.94-2.06-.94-.94-2.06-.94 2.06-2.06.94z\"/><path d=\"M17.41 7.96l-1.37-1.37c-.4-.4-.92-.59-1.43-.59-.52 0-1.04.2-1.43.59L10.3 9.45l-7.72 7.72c-.78.78-.78 2.05 0 2.83L4 21.41c.39.39.9.59 1.41.59.51 0 1.02-.2 1.41-.59l7.78-7.78 2.81-2.81c.8-.78.8-2.07 0-2.86zM5.41 20L4 18.59l7.72-7.72 1.47 1.35L5.41 20z\"/>\n",
              "  </svg>\n",
              "      </button>\n",
              "      \n",
              "  <style>\n",
              "    .colab-df-container {\n",
              "      display:flex;\n",
              "      flex-wrap:wrap;\n",
              "      gap: 12px;\n",
              "    }\n",
              "\n",
              "    .colab-df-convert {\n",
              "      background-color: #E8F0FE;\n",
              "      border: none;\n",
              "      border-radius: 50%;\n",
              "      cursor: pointer;\n",
              "      display: none;\n",
              "      fill: #1967D2;\n",
              "      height: 32px;\n",
              "      padding: 0 0 0 0;\n",
              "      width: 32px;\n",
              "    }\n",
              "\n",
              "    .colab-df-convert:hover {\n",
              "      background-color: #E2EBFA;\n",
              "      box-shadow: 0px 1px 2px rgba(60, 64, 67, 0.3), 0px 1px 3px 1px rgba(60, 64, 67, 0.15);\n",
              "      fill: #174EA6;\n",
              "    }\n",
              "\n",
              "    [theme=dark] .colab-df-convert {\n",
              "      background-color: #3B4455;\n",
              "      fill: #D2E3FC;\n",
              "    }\n",
              "\n",
              "    [theme=dark] .colab-df-convert:hover {\n",
              "      background-color: #434B5C;\n",
              "      box-shadow: 0px 1px 3px 1px rgba(0, 0, 0, 0.15);\n",
              "      filter: drop-shadow(0px 1px 2px rgba(0, 0, 0, 0.3));\n",
              "      fill: #FFFFFF;\n",
              "    }\n",
              "  </style>\n",
              "\n",
              "      <script>\n",
              "        const buttonEl =\n",
              "          document.querySelector('#df-496f5f8e-b3a2-4226-8ec5-07d3f19f31f6 button.colab-df-convert');\n",
              "        buttonEl.style.display =\n",
              "          google.colab.kernel.accessAllowed ? 'block' : 'none';\n",
              "\n",
              "        async function convertToInteractive(key) {\n",
              "          const element = document.querySelector('#df-496f5f8e-b3a2-4226-8ec5-07d3f19f31f6');\n",
              "          const dataTable =\n",
              "            await google.colab.kernel.invokeFunction('convertToInteractive',\n",
              "                                                     [key], {});\n",
              "          if (!dataTable) return;\n",
              "\n",
              "          const docLinkHtml = 'Like what you see? Visit the ' +\n",
              "            '<a target=\"_blank\" href=https://colab.research.google.com/notebooks/data_table.ipynb>data table notebook</a>'\n",
              "            + ' to learn more about interactive tables.';\n",
              "          element.innerHTML = '';\n",
              "          dataTable['output_type'] = 'display_data';\n",
              "          await google.colab.output.renderOutput(dataTable, element);\n",
              "          const docLink = document.createElement('div');\n",
              "          docLink.innerHTML = docLinkHtml;\n",
              "          element.appendChild(docLink);\n",
              "        }\n",
              "      </script>\n",
              "    </div>\n",
              "  </div>\n",
              "  "
            ]
          },
          "metadata": {},
          "execution_count": 9
        }
      ],
      "source": [
        "df.head()"
      ]
    },
    {
      "cell_type": "code",
      "execution_count": null,
      "metadata": {
        "id": "43DUwMi9ibLQ"
      },
      "outputs": [],
      "source": [
        "df = df.drop(\"productId\", axis=1)\n",
        "df = df.drop(\"Title\", axis=1)\n",
        "df = df.drop(\"userId\", axis=1)\n",
        "df = df.drop(\"Helpfulness\", axis=1)\n",
        "df = df.drop(\"Score\", axis=1)\n",
        "df = df.drop(\"Time\", axis=1)\n",
        "df = df.drop(\"Cat2\", axis=1)\n",
        "df = df.drop(\"Cat3\", axis=1)\n",
        "df = df.rename(columns={\"Text\": \"description\", \"Cat1\": \"label\"})"
      ]
    },
    {
      "cell_type": "markdown",
      "metadata": {
        "id": "4Nmi_aDpPW_L"
      },
      "source": [
        "Text Preprocessing"
      ]
    },
    {
      "cell_type": "code",
      "execution_count": null,
      "metadata": {
        "id": "Q_8e1IlUdW23",
        "colab": {
          "base_uri": "https://localhost:8080/"
        },
        "outputId": "716266c6-5ae5-4a29-b5dd-672c23de7dd0"
      },
      "outputs": [
        {
          "output_type": "stream",
          "name": "stderr",
          "text": [
            "/usr/local/lib/python3.7/dist-packages/spacy/language.py:1899: UserWarning: [W123] Argument disable with value ['parser', 'ner'] is used instead of ['senter'] as specified in the config. Be aware that this might affect other components in your pipeline.\n",
            "  config_value=config[\"nlp\"][key],\n"
          ]
        }
      ],
      "source": [
        "lemmatizer = spacy.load('en_core_web_sm', disable=['parser', 'ner'])\n",
        "stemmer = nltk.SnowballStemmer(\"english\")\n",
        "remove_symbols = re.compile('[-+/(){}\\[\\]\\|@,;]')\n",
        "remove_numbers = re.compile('[0-9] {,1}')\n",
        "PUNCTUATION = string.punctuation\n",
        "emoji_pattern = re.compile(\"[\"\n",
        "        u\"\\U0001F600-\\U0001F64F\"  # emoticons\n",
        "        u\"\\U0001F300-\\U0001F5FF\"  # symbols & pictographs\n",
        "        u\"\\U0001F680-\\U0001F6FF\"  # transport & map symbols\n",
        "        u\"\\U0001F1E0-\\U0001F1FF\"  # flags (iOS)\n",
        "        u\"\\U00002702-\\U000027B0\"\n",
        "        u\"\\U000024C2-\\U0001F251\"\n",
        "        \"]+\", flags=re.UNICODE)"
      ]
    },
    {
      "cell_type": "code",
      "source": [
        "def lemmatize_sentence(sentence):\n",
        "    \"\"\"Function to lemmatize a sentence\n",
        "\n",
        "    Args:\n",
        "        sentence (str): the string to lemmatize\n",
        "\n",
        "    Returns:\n",
        "        str: the lemmatized string\n",
        "    \"\"\"\n",
        "    doc = lemmatizer(sentence)\n",
        "    return \" \".join([token.lemma_ for token in doc])\n",
        "\n",
        "def text_preprocess(sentence):\n",
        "    \"\"\"Function to preprocess a sentence to remove punctuation, emoji, symbols and to lemmatize\n",
        "\n",
        "    Args:\n",
        "        sentence (str): sentence to be preprocess\n",
        "\n",
        "    Returns:\n",
        "        str: the new sentence\n",
        "    \"\"\"\n",
        "    if isinstance(sentence, str):\n",
        "        sentence = sentence.lower() ## Make the text lower case\n",
        "        sentence = sentence.translate(str.maketrans('', '', PUNCTUATION)) ## Remove the punctuation\n",
        "        sentence = emoji_pattern.sub(' ', sentence)\n",
        "        sentence = remove_symbols.sub(' ', sentence)\n",
        "        sentence = remove_numbers.sub(' ', sentence)\n",
        "        sentence = lemmatize_sentence(sentence)\n",
        "        return sentence\n",
        "    Exception(\"sentence need to be a string.\")"
      ],
      "metadata": {
        "id": "riRohlW70inf"
      },
      "execution_count": null,
      "outputs": []
    },
    {
      "cell_type": "code",
      "execution_count": null,
      "metadata": {
        "id": "vHWBrxJ435vB",
        "colab": {
          "base_uri": "https://localhost:8080/"
        },
        "outputId": "3cac3a65-596d-4a03-fc60-62aeff561be6"
      },
      "outputs": [
        {
          "output_type": "stream",
          "name": "stderr",
          "text": [
            "100%|██████████| 40000/40000 [05:35<00:00, 119.27it/s]\n"
          ]
        }
      ],
      "source": [
        "tqdm.pandas() ## To display a progress bar\n",
        "df.description = df.description.progress_apply(lambda text : text_preprocess(text))"
      ]
    },
    {
      "cell_type": "code",
      "source": [
        "class_weights = class_weight.compute_class_weight(class_weight = 'balanced',\n",
        "                                                  classes = np.unique(df.label.values),\n",
        "                                                  y = df.label.values)"
      ],
      "metadata": {
        "id": "3PjCfHlgJAJy"
      },
      "execution_count": null,
      "outputs": []
    },
    {
      "cell_type": "code",
      "source": [
        "class_weights = dict(zip(np.unique([0,1,2,3,4,5,6,7,8,9,10,11,12,13,14,15,16,17,18,19,20,21,22,23,24,25,26]), class_weights))\n",
        "class_weights"
      ],
      "metadata": {
        "colab": {
          "base_uri": "https://localhost:8080/"
        },
        "id": "o7KsI_O-JHsK",
        "outputId": "7c688e3e-bcfc-4168-9f2a-f60f07c63601"
      },
      "execution_count": null,
      "outputs": [
        {
          "output_type": "execute_result",
          "data": {
            "text/plain": [
              "{0: 1.182662172550411,\n",
              " 1: 1.1403808872163304,\n",
              " 2: 1.84314809694959,\n",
              " 3: 0.6822213125938055,\n",
              " 4: 1.3711778417660772,\n",
              " 5: 0.6493928177154361}"
            ]
          },
          "metadata": {},
          "execution_count": 18
        }
      ]
    },
    {
      "cell_type": "code",
      "source": [
        "encoder = LabelBinarizer()\n",
        "df_cat_enc = encoder.fit_transform(df.label.values);\n",
        "df[\"label\"] = df_cat_enc.tolist()"
      ],
      "metadata": {
        "id": "_VTvqFdJehq9"
      },
      "execution_count": null,
      "outputs": []
    },
    {
      "cell_type": "code",
      "source": [
        "df.head()"
      ],
      "metadata": {
        "colab": {
          "base_uri": "https://localhost:8080/",
          "height": 206
        },
        "id": "-FKcmj0MgXDf",
        "outputId": "2c90edb8-0eda-4f17-a600-5efc0a9c0730"
      },
      "execution_count": null,
      "outputs": [
        {
          "output_type": "execute_result",
          "data": {
            "text/plain": [
              "                                         description               label\n",
              "0  the description and photo on this product need...  [0, 0, 1, 0, 0, 0]\n",
              "1  this be a great book it be well think through ...  [0, 0, 0, 0, 0, 1]\n",
              "2  I be a first year teacher teach   th grade I h...  [0, 0, 0, 0, 0, 1]\n",
              "3  I get the book at my bookfair at school look f...  [0, 0, 0, 0, 0, 1]\n",
              "4  hi I m martine redman and I create this puzzle...  [0, 0, 0, 0, 0, 1]"
            ],
            "text/html": [
              "\n",
              "  <div id=\"df-165d3cf0-b17a-4dd7-a285-02eaf21f7f76\">\n",
              "    <div class=\"colab-df-container\">\n",
              "      <div>\n",
              "<style scoped>\n",
              "    .dataframe tbody tr th:only-of-type {\n",
              "        vertical-align: middle;\n",
              "    }\n",
              "\n",
              "    .dataframe tbody tr th {\n",
              "        vertical-align: top;\n",
              "    }\n",
              "\n",
              "    .dataframe thead th {\n",
              "        text-align: right;\n",
              "    }\n",
              "</style>\n",
              "<table border=\"1\" class=\"dataframe\">\n",
              "  <thead>\n",
              "    <tr style=\"text-align: right;\">\n",
              "      <th></th>\n",
              "      <th>description</th>\n",
              "      <th>label</th>\n",
              "    </tr>\n",
              "  </thead>\n",
              "  <tbody>\n",
              "    <tr>\n",
              "      <th>0</th>\n",
              "      <td>the description and photo on this product need...</td>\n",
              "      <td>[0, 0, 1, 0, 0, 0]</td>\n",
              "    </tr>\n",
              "    <tr>\n",
              "      <th>1</th>\n",
              "      <td>this be a great book it be well think through ...</td>\n",
              "      <td>[0, 0, 0, 0, 0, 1]</td>\n",
              "    </tr>\n",
              "    <tr>\n",
              "      <th>2</th>\n",
              "      <td>I be a first year teacher teach   th grade I h...</td>\n",
              "      <td>[0, 0, 0, 0, 0, 1]</td>\n",
              "    </tr>\n",
              "    <tr>\n",
              "      <th>3</th>\n",
              "      <td>I get the book at my bookfair at school look f...</td>\n",
              "      <td>[0, 0, 0, 0, 0, 1]</td>\n",
              "    </tr>\n",
              "    <tr>\n",
              "      <th>4</th>\n",
              "      <td>hi I m martine redman and I create this puzzle...</td>\n",
              "      <td>[0, 0, 0, 0, 0, 1]</td>\n",
              "    </tr>\n",
              "  </tbody>\n",
              "</table>\n",
              "</div>\n",
              "      <button class=\"colab-df-convert\" onclick=\"convertToInteractive('df-165d3cf0-b17a-4dd7-a285-02eaf21f7f76')\"\n",
              "              title=\"Convert this dataframe to an interactive table.\"\n",
              "              style=\"display:none;\">\n",
              "        \n",
              "  <svg xmlns=\"http://www.w3.org/2000/svg\" height=\"24px\"viewBox=\"0 0 24 24\"\n",
              "       width=\"24px\">\n",
              "    <path d=\"M0 0h24v24H0V0z\" fill=\"none\"/>\n",
              "    <path d=\"M18.56 5.44l.94 2.06.94-2.06 2.06-.94-2.06-.94-.94-2.06-.94 2.06-2.06.94zm-11 1L8.5 8.5l.94-2.06 2.06-.94-2.06-.94L8.5 2.5l-.94 2.06-2.06.94zm10 10l.94 2.06.94-2.06 2.06-.94-2.06-.94-.94-2.06-.94 2.06-2.06.94z\"/><path d=\"M17.41 7.96l-1.37-1.37c-.4-.4-.92-.59-1.43-.59-.52 0-1.04.2-1.43.59L10.3 9.45l-7.72 7.72c-.78.78-.78 2.05 0 2.83L4 21.41c.39.39.9.59 1.41.59.51 0 1.02-.2 1.41-.59l7.78-7.78 2.81-2.81c.8-.78.8-2.07 0-2.86zM5.41 20L4 18.59l7.72-7.72 1.47 1.35L5.41 20z\"/>\n",
              "  </svg>\n",
              "      </button>\n",
              "      \n",
              "  <style>\n",
              "    .colab-df-container {\n",
              "      display:flex;\n",
              "      flex-wrap:wrap;\n",
              "      gap: 12px;\n",
              "    }\n",
              "\n",
              "    .colab-df-convert {\n",
              "      background-color: #E8F0FE;\n",
              "      border: none;\n",
              "      border-radius: 50%;\n",
              "      cursor: pointer;\n",
              "      display: none;\n",
              "      fill: #1967D2;\n",
              "      height: 32px;\n",
              "      padding: 0 0 0 0;\n",
              "      width: 32px;\n",
              "    }\n",
              "\n",
              "    .colab-df-convert:hover {\n",
              "      background-color: #E2EBFA;\n",
              "      box-shadow: 0px 1px 2px rgba(60, 64, 67, 0.3), 0px 1px 3px 1px rgba(60, 64, 67, 0.15);\n",
              "      fill: #174EA6;\n",
              "    }\n",
              "\n",
              "    [theme=dark] .colab-df-convert {\n",
              "      background-color: #3B4455;\n",
              "      fill: #D2E3FC;\n",
              "    }\n",
              "\n",
              "    [theme=dark] .colab-df-convert:hover {\n",
              "      background-color: #434B5C;\n",
              "      box-shadow: 0px 1px 3px 1px rgba(0, 0, 0, 0.15);\n",
              "      filter: drop-shadow(0px 1px 2px rgba(0, 0, 0, 0.3));\n",
              "      fill: #FFFFFF;\n",
              "    }\n",
              "  </style>\n",
              "\n",
              "      <script>\n",
              "        const buttonEl =\n",
              "          document.querySelector('#df-165d3cf0-b17a-4dd7-a285-02eaf21f7f76 button.colab-df-convert');\n",
              "        buttonEl.style.display =\n",
              "          google.colab.kernel.accessAllowed ? 'block' : 'none';\n",
              "\n",
              "        async function convertToInteractive(key) {\n",
              "          const element = document.querySelector('#df-165d3cf0-b17a-4dd7-a285-02eaf21f7f76');\n",
              "          const dataTable =\n",
              "            await google.colab.kernel.invokeFunction('convertToInteractive',\n",
              "                                                     [key], {});\n",
              "          if (!dataTable) return;\n",
              "\n",
              "          const docLinkHtml = 'Like what you see? Visit the ' +\n",
              "            '<a target=\"_blank\" href=https://colab.research.google.com/notebooks/data_table.ipynb>data table notebook</a>'\n",
              "            + ' to learn more about interactive tables.';\n",
              "          element.innerHTML = '';\n",
              "          dataTable['output_type'] = 'display_data';\n",
              "          await google.colab.output.renderOutput(dataTable, element);\n",
              "          const docLink = document.createElement('div');\n",
              "          docLink.innerHTML = docLinkHtml;\n",
              "          element.appendChild(docLink);\n",
              "        }\n",
              "      </script>\n",
              "    </div>\n",
              "  </div>\n",
              "  "
            ]
          },
          "metadata": {},
          "execution_count": 20
        }
      ]
    },
    {
      "cell_type": "code",
      "source": [
        "train, test = train_test_split(df, test_size=0.2, shuffle=True, stratify=df.label)\n",
        "train, validation = train_test_split(train, test_size=0.4, shuffle=True, stratify=train.label)"
      ],
      "metadata": {
        "id": "hWmm7QaHR_il"
      },
      "execution_count": null,
      "outputs": []
    },
    {
      "cell_type": "code",
      "source": [
        "print(train[\"label\"].value_counts(normalize=True))"
      ],
      "metadata": {
        "colab": {
          "base_uri": "https://localhost:8080/"
        },
        "id": "cQIuXfA6TuQL",
        "outputId": "fc2219df-1c73-4cb3-9194-8331d13cedff"
      },
      "execution_count": null,
      "outputs": [
        {
          "output_type": "stream",
          "name": "stdout",
          "text": [
            "[0, 0, 0, 0, 0, 1]    0.256667\n",
            "[0, 0, 0, 1, 0, 0]    0.244271\n",
            "[0, 1, 0, 0, 0, 0]    0.146146\n",
            "[1, 0, 0, 0, 0, 0]    0.140937\n",
            "[0, 0, 0, 0, 1, 0]    0.121563\n",
            "[0, 0, 1, 0, 0, 0]    0.090417\n",
            "Name: label, dtype: float64\n"
          ]
        }
      ]
    },
    {
      "cell_type": "code",
      "source": [
        "print(test[\"label\"].value_counts(normalize=True))"
      ],
      "metadata": {
        "colab": {
          "base_uri": "https://localhost:8080/"
        },
        "id": "QQ7yG3e8U9aY",
        "outputId": "f9ae8007-6d7b-4b19-8a82-bde11d16a183"
      },
      "execution_count": null,
      "outputs": [
        {
          "output_type": "stream",
          "name": "stdout",
          "text": [
            "[0, 0, 0, 0, 0, 1]    0.256625\n",
            "[0, 0, 0, 1, 0, 0]    0.244375\n",
            "[0, 1, 0, 0, 0, 0]    0.146125\n",
            "[1, 0, 0, 0, 0, 0]    0.141000\n",
            "[0, 0, 0, 0, 1, 0]    0.121500\n",
            "[0, 0, 1, 0, 0, 0]    0.090375\n",
            "Name: label, dtype: float64\n"
          ]
        }
      ]
    },
    {
      "cell_type": "code",
      "source": [
        "print(validation[\"label\"].value_counts(normalize=True))"
      ],
      "metadata": {
        "colab": {
          "base_uri": "https://localhost:8080/"
        },
        "id": "umfFdZOgmMdK",
        "outputId": "bc1cfb1a-36f4-48ef-b4cd-4787d7895495"
      },
      "execution_count": null,
      "outputs": [
        {
          "output_type": "stream",
          "name": "stdout",
          "text": [
            "[0, 0, 0, 0, 0, 1]    0.256641\n",
            "[0, 0, 0, 1, 0, 0]    0.244297\n",
            "[0, 1, 0, 0, 0, 0]    0.146172\n",
            "[1, 0, 0, 0, 0, 0]    0.140859\n",
            "[0, 0, 0, 0, 1, 0]    0.121563\n",
            "[0, 0, 1, 0, 0, 0]    0.090469\n",
            "Name: label, dtype: float64\n"
          ]
        }
      ]
    },
    {
      "cell_type": "code",
      "source": [
        "train_ds = Dataset.from_tensor_slices((train.description, train.label.tolist()));\n",
        "validation_ds = Dataset.from_tensor_slices((validation.description, validation.label.tolist()));\n",
        "test_ds = Dataset.from_tensor_slices((test.description, test.label.tolist()));"
      ],
      "metadata": {
        "id": "tUKDOAslVOQQ"
      },
      "execution_count": null,
      "outputs": []
    },
    {
      "cell_type": "code",
      "source": [
        "BATCH_SIZE = 16\n",
        "\n",
        "train_ds = train_ds.shuffle(100000).batch(BATCH_SIZE).prefetch(tf.data.AUTOTUNE)\n",
        "validation_ds = validation_ds.shuffle(70000).batch(BATCH_SIZE).prefetch(tf.data.AUTOTUNE)\n",
        "test_ds = test_ds.batch(BATCH_SIZE).prefetch(tf.data.AUTOTUNE)"
      ],
      "metadata": {
        "id": "qWfdmql9bt10"
      },
      "execution_count": null,
      "outputs": []
    },
    {
      "cell_type": "code",
      "source": [
        "encoder.classes_"
      ],
      "metadata": {
        "colab": {
          "base_uri": "https://localhost:8080/"
        },
        "id": "MnZoHIO1llwg",
        "outputId": "c49cb9b9-68cf-46b8-88b4-d0e8ba16b4d9"
      },
      "execution_count": null,
      "outputs": [
        {
          "output_type": "execute_result",
          "data": {
            "text/plain": [
              "array(['baby products', 'beauty', 'grocery gourmet food',\n",
              "       'health personal care', 'pet supplies', 'toys games'], dtype='<U20')"
            ]
          },
          "metadata": {},
          "execution_count": 28
        }
      ]
    },
    {
      "cell_type": "code",
      "source": [
        "def invert_multi_hot(encoded_labels):\n",
        "    \"\"\"Reverse a single multi-hot encoded label to a tuple of vocab terms.\"\"\"\n",
        "    hot_indices = [i for i, elem in enumerate(encoded_labels) if elem == 1]\n",
        "    return np.take(encoder.classes_, hot_indices)[0]"
      ],
      "metadata": {
        "id": "WHzFLPD8vqNs"
      },
      "execution_count": null,
      "outputs": []
    },
    {
      "cell_type": "code",
      "source": [
        "for example, label in train_ds.take(1):\n",
        "  print('text: ', example.numpy()[0])\n",
        "  print('label: ', invert_multi_hot(label.numpy()[0]))\n"
      ],
      "metadata": {
        "colab": {
          "base_uri": "https://localhost:8080/"
        },
        "id": "eVX0Fug2VxY4",
        "outputId": "e2fedb0e-cc3a-4d37-c4ca-a9b069219be0"
      },
      "execution_count": null,
      "outputs": [
        {
          "output_type": "stream",
          "name": "stdout",
          "text": [
            "text:  b'this be a confident well balanced and sexy cologne I wear this for a a fun night out the kind where you undo one extra shirt button I definitely get complement on this one'\n",
            "label:  beauty\n"
          ]
        }
      ]
    },
    {
      "cell_type": "code",
      "source": [
        "for example, label in train_ds.take(1):\n",
        "  print('text: ', example.numpy())\n",
        "  print('label: ', label.numpy())"
      ],
      "metadata": {
        "colab": {
          "base_uri": "https://localhost:8080/"
        },
        "id": "Jv92e4iVcL1K",
        "outputId": "2e44d817-3f6a-4d18-e310-1d3b55bd48c0"
      },
      "execution_count": null,
      "outputs": [
        {
          "output_type": "stream",
          "name": "stdout",
          "text": [
            "text:  [b'what else can I say the sea turtle have a good home and be love by a little girl a great toy and well make'\n",
            " b'I get this for my daughter   st birthday and she love it she love make the sink play the song and put the pan on the stove to make the noise and light its hold up a ton to my daughter bang tipping and pull the fridge door do come off but its simple to put right back on and do not pose any kind of danger so I do not see why that would be a complaint I love this kitchen until now I have not find a toy that will occupy she for so long she love try to open everything so it also satisfy she want to do that'\n",
            " b'I have look up the ingredient and there be zero wasabi in this producthorseradish be the number one ingredienthorseradish wasabi be wasabi not wasabi if you ve only eat sushi with wasabi paste you ve probably never have the real thing'\n",
            " b'my boy love this toy and it do come with a few refill balloon after they be go so be the toy I could not find a balloon big enough to blow up the cover completely wish you could get refill'\n",
            " b'have be use these flexi leash for over    year with wonderful result other brand do not compare to the durability and strength would recommend for small and medium size dog and large dog with proper training and correct collarsflexi classic   small    lbs black    ft'\n",
            " b'still have not make up my mind about frontline but combine with other method to get rid of flea it seem to be work would purchase again'\n",
            " b'my inlaw get this toy for my son for christmas this be around the time he be start to learn to walk I believe it help to make his leg more steady and give he more confidence he really enjoy run all over to pick up all the bright colorful ball he have throw all over the floor my only complaint be that he be able to lose all of those little ball in about   day so if you re a freak like I and hate to find that you have piece miss then this be not the toy to buy or get over it my toddler lose everything especially shoe if only I can get about a milion of those key finder beep thing and attach they to everything he own then maybe I would not be so crazy'\n",
            " b'it provide mild relief but be very hard to get off hairy back I think ill try something else next time if you have a hairy back yeah go ahead and laugh but use should be with removal in mind'\n",
            " b'I almost do not buy these due to the comment regard the leak problem however I take a chance and be so happy I do bottle be wonderful my baby be breastfe and I also supplement with formula I choose the wide neck and she be very happy take the nipple before dr brown bottle   she would cry every day with pain in her belly from gas and have a problem with spit up I be happy to report that neither be a problem since we have purchase they I have not have any problem with leaking   and   I do not think the extra part be a big deal to wash or put together besides they be worth it if it help sooth your baby'\n",
            " b'we purchase this gate for the top of our stairway and have have no trouble with it stick in fact we find this gate much easy to use than the quotcompression gatesquot and be go to replace those with this gate it be easy to use with a single hand and there be no fighting to get the right quotfitquot as with compression gate we highly recommend it'\n",
            " b'before you use this tool make sure that your face be clean exfoliated and preferably steamed make sure that the tool have be sterilize before use rub alcohol work you have to push pretty hard to get the crap out of your pore and have to drag the tool across your skin beware that after use it on your face that there s a good chance that you will look like a meth addict   your face will be red and sore and possibly have a few sore from it the tool always give I dry skin and have cause quite a few deep and painful zit after use definitely use some sort of toner after usebiore pore strip work well and be less painful and disfigure than this little tool buyer beware'\n",
            " b'we buy this for my   year old and while she really love to play with it she get bored quickly shed rather walk around with the little people in her mouth I think as she get old it will be a great learning tool for she the zoo be just precious'\n",
            " b'I just start to collect attacktix and they re great I ve get two   pack and one starter pack attacktix be a great value and be extremly fun so far I have two tarfful greivous bodygaurd clone trooper clone commander wookie commando wookie scout plo koon obiwan anakin and a super battle I ve be show my friend and now they want to start collect they too'\n",
            " b'the product ingredient for this product be fairly common and several have be know to help this particular combination be not that effective and pricey for what you gethowever the real reason not to order from this company be their horrible customer service they would not refund the money the rep be very difficult to deal with and if you have an issue there be no way they will let you speak to a supervisor to try to resolve itthere be no reason to support a company like this I be very verse in product of this kind give your money to company with more integrity who care about their customersif you have not try they I recommend the arthri zen cream or pill well product and a company that understand what customer service be'\n",
            " b'these test be insanely sensitive they pick up my positive result at    dpo before first response do I get my beta level check and they be    so they re insanely sensitive during early pregnancy highly reccommende over the super expensive test'\n",
            " b'I do not recibe this product becouse it do not arrive to de direccion y do not now where it be at this time I live in chile and my daugther be in boston until september    but do not recibe the paqquet I don now what y have to do now ana maria']\n",
            "label:  [[0 0 0 0 0 1]\n",
            " [0 0 0 0 0 1]\n",
            " [0 0 1 0 0 0]\n",
            " [0 0 0 0 0 1]\n",
            " [0 0 0 0 1 0]\n",
            " [0 0 0 0 1 0]\n",
            " [0 0 0 0 0 1]\n",
            " [0 0 0 1 0 0]\n",
            " [1 0 0 0 0 0]\n",
            " [1 0 0 0 0 0]\n",
            " [0 1 0 0 0 0]\n",
            " [0 0 0 0 0 1]\n",
            " [0 0 0 0 0 1]\n",
            " [0 0 0 1 0 0]\n",
            " [0 0 0 1 0 0]\n",
            " [0 0 0 1 0 0]]\n"
          ]
        }
      ]
    },
    {
      "cell_type": "code",
      "source": [
        "MAX_WORDS = 20000\n",
        "MAX_LEN = 11 # 50% of the dataset have an average length of 11 words\n",
        "vector = tf.keras.layers.TextVectorization(\n",
        "    max_tokens=MAX_WORDS,\n",
        "    standardize=None,\n",
        "    ngrams=1\n",
        "  )\n",
        "vector.adapt(train_ds.map(lambda text, label: text))"
      ],
      "metadata": {
        "id": "FIHsy6Z7vG2j"
      },
      "execution_count": null,
      "outputs": []
    },
    {
      "cell_type": "code",
      "source": [
        "embeddings_index = dict()\n",
        "path_to_glove_embed = \"drive/MyDrive/NLP/glove.6B.100d.txt\"\n",
        "def get_embeddings_from_glove(glove_path):\n",
        "  embeddings_index = dict();\n",
        "  for line in open(glove_path, encoding=\"utf8\"):\n",
        "    values = line.split()\n",
        "    word = values[0]\n",
        "    coefs = np.asarray(values[1:], dtype='float32')\n",
        "    embeddings_index[word] = coefs\n",
        "  return embeddings_index;\n",
        "\n",
        "embeddings_index = get_embeddings_from_glove(path_to_glove_embed);"
      ],
      "metadata": {
        "id": "zGrzBXY7iBjL"
      },
      "execution_count": null,
      "outputs": []
    },
    {
      "cell_type": "code",
      "source": [
        "def get_embedding_matrix():\n",
        "  embedding_matrix = np.zeros((len(vector.get_vocabulary()), 100))\n",
        "  for word, i in zip(vector.get_vocabulary(),range(len(vector.get_vocabulary()))):\n",
        "      embedding_vector = embeddings_index.get(word)\n",
        "      if embedding_vector is not None:\n",
        "          embedding_matrix[i] = embedding_vector\n",
        "  return embedding_matrix\n",
        "\n",
        "embedding_matrix = get_embedding_matrix()"
      ],
      "metadata": {
        "id": "KStoF4PcjoCg"
      },
      "execution_count": null,
      "outputs": []
    },
    {
      "cell_type": "code",
      "source": [
        "vocab = np.array(vector.get_vocabulary())\n",
        "print(len(vocab))\n",
        "vocab[:20]"
      ],
      "metadata": {
        "colab": {
          "base_uri": "https://localhost:8080/"
        },
        "id": "QUKFTdQjvS8A",
        "outputId": "ae253bc4-66ca-4379-a0f6-eff12972074b"
      },
      "execution_count": null,
      "outputs": [
        {
          "output_type": "stream",
          "name": "stdout",
          "text": [
            "20000\n"
          ]
        },
        {
          "output_type": "execute_result",
          "data": {
            "text/plain": [
              "array(['', '[UNK]', 'the', 'be', 'I', 'and', 'it', 'to', 'a', 'this',\n",
              "       'have', 'of', 'not', 'for', 'my', 'in', 'that', 'do', 'with',\n",
              "       'they'], dtype='<U61')"
            ]
          },
          "metadata": {},
          "execution_count": 35
        }
      ]
    },
    {
      "cell_type": "markdown",
      "metadata": {
        "id": "pLjquVocOYLy"
      },
      "source": [
        "Splitting the dataset between train, validation and test"
      ]
    },
    {
      "cell_type": "code",
      "source": [
        "# model = Sequential([\n",
        "#     Dense(524, activation='relu'),\n",
        "#     Dense(262, activation='relu'),\n",
        "#     Dense(Y.shape[1], activation='sigmoid')\n",
        "# ])"
      ],
      "metadata": {
        "id": "6Ruh6P49OVEQ"
      },
      "execution_count": null,
      "outputs": []
    },
    {
      "cell_type": "code",
      "execution_count": null,
      "metadata": {
        "id": "Y1m462cmlQLg"
      },
      "outputs": [],
      "source": [
        "# model = Sequential([\n",
        "#     vector,\n",
        "#     Embedding(len(vocab), EMBEDDING_DIM, mask_zero=True),\n",
        "#     GRU(EMBEDDING_DIM, return_sequences=True),\n",
        "#     GRU(int(EMBEDDING_DIM/2)),\n",
        "#     Dense(int(EMBEDDING_DIM/2), activation='relu'),\n",
        "#     Dropout(0.3),\n",
        "#     Dense(len(encoder.classes_), activation='sigmoid')\n",
        "# ])\n"
      ]
    },
    {
      "cell_type": "code",
      "source": [
        "# model = Sequential([\n",
        "#     vector,\n",
        "#     Embedding(MAX_NB_WORDS, EMBEDDING_DIM, mask_zero=True),\n",
        "#     Conv1D(128, 5, activation='relu'),\n",
        "#     GlobalMaxPooling1D(),\n",
        "#     Dense(28, activation='relu'),\n",
        "#     Dropout(0.2),\n",
        "#     Dense(len(encoder.classes_))\n",
        "# ])\n"
      ],
      "metadata": {
        "id": "P_EgV6HlPtAO"
      },
      "execution_count": null,
      "outputs": []
    },
    {
      "cell_type": "code",
      "execution_count": null,
      "metadata": {
        "id": "06Qd1B3lrXG4"
      },
      "outputs": [],
      "source": [
        "model = Sequential([\n",
        "    vector,\n",
        "    Embedding( \n",
        "        input_dim=len(vocab), \n",
        "        output_dim=100,\n",
        "        weights=[embedding_matrix],\n",
        "        input_length=MAX_LEN,\n",
        "        trainable=False\n",
        "    ),  \n",
        "    SpatialDropout1D(0.2),\n",
        "    GRU(64, dropout=0.2, return_sequences=True),  \n",
        "    GRU(64, dropout=0.2, return_sequences=True),\n",
        "    GRU(64, dropout=0.2),\n",
        "    Dropout(0.3),\n",
        "    Dense(len(encoder.classes_), activation=\"softmax\")\n",
        "])\n"
      ]
    },
    {
      "cell_type": "code",
      "source": [
        "print([layer.supports_masking for layer in model.layers])\n"
      ],
      "metadata": {
        "colab": {
          "base_uri": "https://localhost:8080/"
        },
        "id": "ybtwSnhnYtN5",
        "outputId": "f073b9e9-e8d9-404d-ae79-babf521453a1"
      },
      "execution_count": null,
      "outputs": [
        {
          "output_type": "stream",
          "name": "stdout",
          "text": [
            "[False, False, True, True, True, True, True, True]\n"
          ]
        }
      ]
    },
    {
      "cell_type": "code",
      "source": [
        "sample_text = ('The movie was cool. The animation and the graphics '\n",
        "               'were out of this world. I would recommend this movie.')\n",
        "predictions = model.predict(np.array([sample_text]))\n",
        "print(predictions[0])"
      ],
      "metadata": {
        "colab": {
          "base_uri": "https://localhost:8080/"
        },
        "id": "EXIhH5UIYyO_",
        "outputId": "6279970d-1733-4f03-bc63-5cabacb06fa9"
      },
      "execution_count": null,
      "outputs": [
        {
          "output_type": "stream",
          "name": "stdout",
          "text": [
            "1/1 [==============================] - 1s 832ms/step\n",
            "[0.12107162 0.21784987 0.17677791 0.16986741 0.14249097 0.17194216]\n"
          ]
        }
      ]
    },
    {
      "cell_type": "code",
      "source": [
        "padding = \"the \" * 2000\n",
        "predictions = model.predict(np.array([sample_text, padding]))\n",
        "print(predictions[0])"
      ],
      "metadata": {
        "colab": {
          "base_uri": "https://localhost:8080/"
        },
        "id": "9gz_64KYY-Qa",
        "outputId": "3b337a20-b431-4f2a-a818-45d4a0de21bc"
      },
      "execution_count": null,
      "outputs": [
        {
          "output_type": "stream",
          "name": "stdout",
          "text": [
            "1/1 [==============================] - 0s 88ms/step\n",
            "[0.16666667 0.16666667 0.16666667 0.16666667 0.16666667 0.16666667]\n"
          ]
        }
      ]
    },
    {
      "cell_type": "code",
      "source": [
        "def recall_m(y_true, y_pred):\n",
        "    true_positives = K.sum(K.round(K.clip(y_true * y_pred, 0, 1)))\n",
        "    possible_positives = K.sum(K.round(K.clip(y_true, 0, 1)))\n",
        "    recall = true_positives / (possible_positives + K.epsilon())\n",
        "    return recall\n",
        "\n",
        "def precision_m(y_true, y_pred):\n",
        "    true_positives = K.sum(K.round(K.clip(y_true * y_pred, 0, 1)))\n",
        "    predicted_positives = K.sum(K.round(K.clip(y_pred, 0, 1)))\n",
        "    precision = true_positives / (predicted_positives + K.epsilon())\n",
        "    return precision\n",
        "\n",
        "def f1_m(y_true, y_pred):\n",
        "    precision = precision_m(y_true, y_pred)\n",
        "    recall = recall_m(y_true, y_pred)\n",
        "    return 2*((precision*recall)/(precision+recall+K.epsilon()))"
      ],
      "metadata": {
        "id": "H7N8M0PuxLuL"
      },
      "execution_count": null,
      "outputs": []
    },
    {
      "cell_type": "code",
      "source": [
        "model.compile(  loss='categorical_crossentropy', \n",
        "                optimizer='adam', \n",
        "                weighted_metrics=['acc',f1_m,precision_m, recall_m])"
      ],
      "metadata": {
        "id": "qvOayJrNZFDP"
      },
      "execution_count": null,
      "outputs": []
    },
    {
      "cell_type": "code",
      "source": [
        "model.summary()"
      ],
      "metadata": {
        "colab": {
          "base_uri": "https://localhost:8080/"
        },
        "id": "HEvEn9F7P4Hu",
        "outputId": "cea95be9-008e-489f-96f4-589bae39152d"
      },
      "execution_count": null,
      "outputs": [
        {
          "output_type": "stream",
          "name": "stdout",
          "text": [
            "Model: \"sequential_3\"\n",
            "_________________________________________________________________\n",
            " Layer (type)                Output Shape              Param #   \n",
            "=================================================================\n",
            " text_vectorization (TextVec  (None, None)             0         \n",
            " torization)                                                     \n",
            "                                                                 \n",
            " embedding_3 (Embedding)     (None, None, 100)         2000000   \n",
            "                                                                 \n",
            " spatial_dropout1d_3 (Spatia  (None, None, 100)        0         \n",
            " lDropout1D)                                                     \n",
            "                                                                 \n",
            " gru_7 (GRU)                 (None, None, 64)          31872     \n",
            "                                                                 \n",
            " gru_8 (GRU)                 (None, None, 64)          24960     \n",
            "                                                                 \n",
            " gru_9 (GRU)                 (None, 64)                24960     \n",
            "                                                                 \n",
            " dropout_3 (Dropout)         (None, 64)                0         \n",
            "                                                                 \n",
            " dense_3 (Dense)             (None, 6)                 390       \n",
            "                                                                 \n",
            "=================================================================\n",
            "Total params: 2,082,182\n",
            "Trainable params: 82,182\n",
            "Non-trainable params: 2,000,000\n",
            "_________________________________________________________________\n"
          ]
        }
      ]
    },
    {
      "cell_type": "code",
      "execution_count": null,
      "metadata": {
        "colab": {
          "base_uri": "https://localhost:8080/"
        },
        "id": "SbN-te7lmSXt",
        "outputId": "1449df6c-45d0-4eae-8092-969b2996c789"
      },
      "outputs": [
        {
          "output_type": "stream",
          "name": "stdout",
          "text": [
            "Epoch 1/20\n",
            "1200/1200 [==============================] - 38s 27ms/step - loss: 0.9956 - acc: 0.6414 - f1_m: 0.5501 - precision_m: 0.7359 - recall_m: 0.4507 - val_loss: 0.7907 - val_acc: 0.7291 - val_f1_m: 0.7204 - val_precision_m: 0.7752 - val_recall_m: 0.6759\n",
            "Epoch 2/20\n",
            "1200/1200 [==============================] - 32s 27ms/step - loss: 0.7918 - acc: 0.7263 - f1_m: 0.6839 - precision_m: 0.7826 - recall_m: 0.6124 - val_loss: 0.7518 - val_acc: 0.7398 - val_f1_m: 0.7148 - val_precision_m: 0.8113 - val_recall_m: 0.6438\n",
            "Epoch 3/20\n",
            "1200/1200 [==============================] - 32s 27ms/step - loss: 0.7110 - acc: 0.7566 - f1_m: 0.7244 - precision_m: 0.8075 - recall_m: 0.6614 - val_loss: 0.6555 - val_acc: 0.7729 - val_f1_m: 0.7666 - val_precision_m: 0.8292 - val_recall_m: 0.7162\n",
            "Epoch 4/20\n",
            "1200/1200 [==============================] - 32s 27ms/step - loss: 0.6707 - acc: 0.7664 - f1_m: 0.7392 - precision_m: 0.8184 - recall_m: 0.6782 - val_loss: 0.6379 - val_acc: 0.7805 - val_f1_m: 0.7742 - val_precision_m: 0.8339 - val_recall_m: 0.7255\n",
            "Epoch 5/20\n",
            "1200/1200 [==============================] - 32s 27ms/step - loss: 0.6295 - acc: 0.7812 - f1_m: 0.7585 - precision_m: 0.8289 - recall_m: 0.7031 - val_loss: 0.6608 - val_acc: 0.7706 - val_f1_m: 0.7599 - val_precision_m: 0.8345 - val_recall_m: 0.7015\n",
            "Epoch 6/20\n",
            "1200/1200 [==============================] - 32s 27ms/step - loss: 0.6051 - acc: 0.7912 - f1_m: 0.7681 - precision_m: 0.8363 - recall_m: 0.7136 - val_loss: 0.5932 - val_acc: 0.7969 - val_f1_m: 0.7902 - val_precision_m: 0.8481 - val_recall_m: 0.7431\n",
            "Epoch 7/20\n",
            "1200/1200 [==============================] - 32s 27ms/step - loss: 0.5763 - acc: 0.8000 - f1_m: 0.7803 - precision_m: 0.8435 - recall_m: 0.7294 - val_loss: 0.6329 - val_acc: 0.7795 - val_f1_m: 0.7714 - val_precision_m: 0.8375 - val_recall_m: 0.7180\n",
            "Epoch 8/20\n",
            "1200/1200 [==============================] - 32s 27ms/step - loss: 0.5618 - acc: 0.8064 - f1_m: 0.7858 - precision_m: 0.8475 - recall_m: 0.7358 - val_loss: 0.5864 - val_acc: 0.7973 - val_f1_m: 0.7953 - val_precision_m: 0.8485 - val_recall_m: 0.7516\n",
            "Epoch 9/20\n",
            "1200/1200 [==============================] - 32s 27ms/step - loss: 0.5476 - acc: 0.8126 - f1_m: 0.7947 - precision_m: 0.8529 - recall_m: 0.7469 - val_loss: 0.5575 - val_acc: 0.8091 - val_f1_m: 0.8050 - val_precision_m: 0.8596 - val_recall_m: 0.7601\n",
            "Epoch 10/20\n",
            "1200/1200 [==============================] - 32s 27ms/step - loss: 0.5355 - acc: 0.8159 - f1_m: 0.7955 - precision_m: 0.8525 - recall_m: 0.7488 - val_loss: 0.6124 - val_acc: 0.7889 - val_f1_m: 0.7912 - val_precision_m: 0.8340 - val_recall_m: 0.7550\n",
            "Epoch 11/20\n",
            "1200/1200 [==============================] - 35s 29ms/step - loss: 0.5231 - acc: 0.8173 - f1_m: 0.7990 - precision_m: 0.8564 - recall_m: 0.7520 - val_loss: 0.5555 - val_acc: 0.8146 - val_f1_m: 0.8112 - val_precision_m: 0.8586 - val_recall_m: 0.7713\n",
            "Epoch 12/20\n",
            "1200/1200 [==============================] - 32s 27ms/step - loss: 0.5113 - acc: 0.8245 - f1_m: 0.8059 - precision_m: 0.8615 - recall_m: 0.7599 - val_loss: 0.5719 - val_acc: 0.8078 - val_f1_m: 0.8064 - val_precision_m: 0.8487 - val_recall_m: 0.7705\n",
            "Epoch 13/20\n",
            "1200/1200 [==============================] - 32s 27ms/step - loss: 0.5074 - acc: 0.8239 - f1_m: 0.8052 - precision_m: 0.8582 - recall_m: 0.7612 - val_loss: 0.5649 - val_acc: 0.8076 - val_f1_m: 0.8059 - val_precision_m: 0.8530 - val_recall_m: 0.7663\n",
            "Epoch 14/20\n",
            "1200/1200 [==============================] - 36s 30ms/step - loss: 0.4937 - acc: 0.8263 - f1_m: 0.8113 - precision_m: 0.8621 - recall_m: 0.7691 - val_loss: 0.5822 - val_acc: 0.8045 - val_f1_m: 0.7977 - val_precision_m: 0.8543 - val_recall_m: 0.7512\n"
          ]
        }
      ],
      "source": [
        "epochs = 20\n",
        "\n",
        "history = model.fit(\n",
        "    train_ds, \n",
        "    epochs=epochs,\n",
        "    validation_data=validation_ds,\n",
        "    class_weight=class_weights,\n",
        "    callbacks=[\n",
        "        EarlyStopping(monitor='val_loss', patience=3, min_delta=0.0001)\n",
        "    ]\n",
        ")"
      ]
    },
    {
      "cell_type": "code",
      "execution_count": null,
      "metadata": {
        "id": "1Zc8koftmUQJ",
        "colab": {
          "base_uri": "https://localhost:8080/"
        },
        "outputId": "aeec8c0c-ecbe-4441-bdea-000fcc89cc9b"
      },
      "outputs": [
        {
          "output_type": "stream",
          "name": "stdout",
          "text": [
            "500/500 [==============================] - 6s 11ms/step - loss: 0.5525 - acc: 0.8106 - f1_m: 0.8060 - precision_m: 0.8633 - recall_m: 0.7591\n",
            "Test set\n",
            "  Loss: 0.553\n",
            "  Accuracy: 0.811\n"
          ]
        }
      ],
      "source": [
        "accr = model.evaluate(test_ds)\n",
        "print('Test set\\n  Loss: {:0.3f}\\n  Accuracy: {:0.3f}'.format(accr[0],accr[1]))"
      ]
    },
    {
      "cell_type": "code",
      "execution_count": null,
      "metadata": {
        "id": "dB41jwPhm67h",
        "colab": {
          "base_uri": "https://localhost:8080/",
          "height": 281
        },
        "outputId": "d92149b3-0498-4b7d-c179-d1adc38d7659"
      },
      "outputs": [
        {
          "output_type": "display_data",
          "data": {
            "text/plain": [
              "<Figure size 432x288 with 1 Axes>"
            ],
            "image/png": "[encoded data removed]"
          },
          "metadata": {
            "needs_background": "light"
          }
        }
      ],
      "source": [
        "plt.title('Loss')\n",
        "plt.plot(history.history['loss'], label='train')\n",
        "plt.plot(history.history['val_loss'], label='test')\n",
        "plt.legend()\n",
        "plt.show();"
      ]
    },
    {
      "cell_type": "code",
      "execution_count": null,
      "metadata": {
        "id": "V1cNx-Qpm9ER",
        "colab": {
          "base_uri": "https://localhost:8080/",
          "height": 281
        },
        "outputId": "f84301c7-ce3a-45e8-9d99-f9a4947911de"
      },
      "outputs": [
        {
          "output_type": "display_data",
          "data": {
            "text/plain": [
              "<Figure size 432x288 with 1 Axes>"
            ],
            "image/png": "[encoded data removed]"
          },
          "metadata": {
            "needs_background": "light"
          }
        }
      ],
      "source": [
        "plt.title('Accuracy')\n",
        "plt.plot(history.history['acc'], label='train')\n",
        "plt.plot(history.history['acc'], label='test')\n",
        "plt.legend()\n",
        "plt.show();"
      ]
    },
    {
      "cell_type": "code",
      "execution_count": null,
      "metadata": {
        "id": "8Ax-IF4mm-hd"
      },
      "outputs": [],
      "source": [
        "checkpoint_path = \"drive/MyDrive/NLP/training_6/cp-{epoch:04d}.ckpt\"\n",
        "model.save_weights(checkpoint_path.format(epoch=0))"
      ]
    },
    {
      "cell_type": "code",
      "source": [],
      "metadata": {
        "id": "vZC7GvDcGB6s"
      },
      "execution_count": null,
      "outputs": []
    }
  ],
  "metadata": {
    "accelerator": "GPU",
    "colab": {
      "collapsed_sections": [],
      "provenance": [],
      "authorship_tag": "ABX9TyOsN0ZvKpPBjZ6OzpJiA4by",
      "include_colab_link": true
    },
    "kernelspec": {
      "display_name": "Python 3",
      "name": "python3"
    },
    "language_info": {
      "name": "python"
    }
  },
  "nbformat": 4,
  "nbformat_minor": 0
}